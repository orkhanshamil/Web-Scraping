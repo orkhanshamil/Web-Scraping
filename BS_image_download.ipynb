{
 "cells": [
  {
   "cell_type": "code",
   "execution_count": 18,
   "metadata": {},
   "outputs": [
    {
     "name": "stdout",
     "output_type": "stream",
     "text": [
      "https://www.google.com/imghp?hl=en\n"
     ]
    }
   ],
   "source": [
    "import mechanicalsoup\n",
    "\n",
    "browser = mechanicalsoup.StatefulBrowser()\n",
    "\n",
    "url = \"https://www.google.com/imghp?hl=en\"\n",
    "\n",
    "browser.open(url)\n",
    "\n",
    "print(browser.get_url())\n"
   ]
  },
  {
   "cell_type": "code",
   "execution_count": 19,
   "metadata": {},
   "outputs": [
    {
     "name": "stdout",
     "output_type": "stream",
     "text": [
      "<input name=\"tbm\" type=\"hidden\" value=\"isch\"/>\n",
      "<input name=\"ie\" type=\"hidden\" value=\"ISO-8859-1\"/>\n",
      "<input name=\"hl\" type=\"hidden\" value=\"en-GE\"/>\n",
      "<input name=\"source\" type=\"hidden\" value=\"hp\"/>\n",
      "<input name=\"biw\" type=\"hidden\"/>\n",
      "<input name=\"bih\" type=\"hidden\"/>\n",
      "<input autocomplete=\"off\" class=\"lst\" maxlength=\"2048\" name=\"q\" size=\"57\" style=\"margin:0;padding:5px 8px 0 6px;vertical-align:top;color:#000\" title=\"Search Images\" value=\"\"/>\n",
      "<input class=\"lsb\" name=\"btnG\" type=\"submit\" value=\"Search Images\"/>\n",
      "<input id=\"gbv\" name=\"gbv\" type=\"hidden\" value=\"1\"/>\n"
     ]
    }
   ],
   "source": [
    "#get HTML\n",
    "browser.get_current_page()\n",
    "\n",
    "#target the search input( finds input tag)\n",
    "browser.select_form()\n",
    "browser.get_current_form().print_summary()"
   ]
  },
  {
   "cell_type": "code",
   "execution_count": 20,
   "metadata": {},
   "outputs": [
    {
     "name": "stdout",
     "output_type": "stream",
     "text": [
      "new url: https://www.google.com/search?tbm=isch&ie=ISO-8859-1&hl=en-GE&source=hp&biw=&bih=&q=panda&btnG=Search+Images&gbv=1\n",
      "my response:\n",
      " <!DOCTYPE html PUBLIC \"-//WAPFORUM//DTD XHTML Mobile 1.0//EN\" \"http://www.wapforum.org/DTD/xhtml-mobile10.dtd\"><html xmlns=\"http://www.w3.org/1999/xhtml\" lang=\"en-GE\"><head><meta content=\"application/xhtml+xml; charset=UTF-8\" http-equiv=\"Content-Type\"/><meta content=\"no-cache\" name=\"Cache-Control\"/><title>panda - Google Search</title><style>a{text-decoration:none;color:inherit}a:hover{text-decoration:underline}a img{border:0}body{font-family:Roboto,Helvetica,Arial,sans-serif;padding:8px;margin:0\n"
     ]
    }
   ],
   "source": [
    "# search for a term\n",
    "word = 'panda'\n",
    "browser['q'] = word\n",
    "\n",
    "#submit/click search\n",
    "browser.launch_browser()\n",
    "response = browser.submit_selected()\n",
    "\n",
    "print('new url:', browser.get_url())\n",
    "print('my response:\\n', response.text[:500])"
   ]
  },
  {
   "cell_type": "code",
   "execution_count": 21,
   "metadata": {},
   "outputs": [
    {
     "name": "stdout",
     "output_type": "stream",
     "text": [
      "['/images/branding/searchlogo/1x/googlelogo_desk_heirloom_color_150x55dp.gif', 'https://encrypted-tbn0.gstatic.com/images?q=tbn:ANd9GcQdyg0Uk7TlkOaEgFUbKh8nOz2U-pRGRoknV_YwFvpOwT4C7VgvSp4lOlXaKQ&s', 'https://encrypted-tbn0.gstatic.com/images?q=tbn:ANd9GcR6_EjqutxZpm4wEBYDOBLoXCdZbGKLgHow7BSY1YRopIjVxV5qKBA3-p-h0A&s', 'https://encrypted-tbn0.gstatic.com/images?q=tbn:ANd9GcQb19mx2qZu8Ygo5qQph23pejl0h-IB3zowlj6EuGv2DbP-t8BuLkBIIs7IXw&s', 'https://encrypted-tbn0.gstatic.com/images?q=tbn:ANd9GcQdFKdG3-oMCr5WdI7ugJ1-2GD38T3YAhwVUQdgy7M3H9Aekf_anOimuzlGaA&s', 'https://encrypted-tbn0.gstatic.com/images?q=tbn:ANd9GcRo7yEdAMauzwYx-x0Xx7uNTvpG7w8q4KoXAra3Zk9SzSoq9I76OJaxNPOiAg&s', 'https://encrypted-tbn0.gstatic.com/images?q=tbn:ANd9GcTnyARxKb2UB8EsSv_eROYvw0xzdVyr5xHvAuzkY5mqzL4lqLT1C4U2b29zag&s', 'https://encrypted-tbn0.gstatic.com/images?q=tbn:ANd9GcTnMoyCB4EqGmGpPSK7sCyJHWFP3yZyrJphfsLVQkBOhDTTn9lb_E5HvLYm3g&s', 'https://encrypted-tbn0.gstatic.com/images?q=tbn:ANd9GcR09LabgHtXY8JRLh7W96e2sAqS0s_DMysgfJ_oEAVylf7mFzu7bPREHO5yVuY&s', 'https://encrypted-tbn0.gstatic.com/images?q=tbn:ANd9GcRSXkW_7j6CH8W8eN6bqqP2xZFPmM2pYcI75dB9eZvkRw7V07ZvXANv69i0cA&s', 'https://encrypted-tbn0.gstatic.com/images?q=tbn:ANd9GcSVYIzy_9y1L9ax8KiAq4p2-BLxIU60GOO9vvSndtKqs0JTxoz7RMdWNmw-ew&s', 'https://encrypted-tbn0.gstatic.com/images?q=tbn:ANd9GcRBikYqwPRhXQzbEG1muWFAK-s2BPPxQf-Uv9x_8RIirhzJbcpSTc58DyJAKM4&s', 'https://encrypted-tbn0.gstatic.com/images?q=tbn:ANd9GcQmdsexedNF5VuLzxmgRW3zkXzGIs8KvqxuKFqvOD_N2PgzHLWVKik1Bim07w&s', 'https://encrypted-tbn0.gstatic.com/images?q=tbn:ANd9GcTrJUUFKOCTbggfUit8mRZPiR2Qr-BkNb85f3hP1C8tQiRi4svfkoE7KviAb2s&s', 'https://encrypted-tbn0.gstatic.com/images?q=tbn:ANd9GcQ5vJ5ED0Pspjg7VpjJvhUH_OUEQ6ylbguYnQXI0MDNw7p0rT9j6P38EWGJLJ0&s', 'https://encrypted-tbn0.gstatic.com/images?q=tbn:ANd9GcSuJQB8XvjbpyJ0ukUymIQRRKK-fR4HKGOcmL_Ouh6tiTKR3BC7BVg_WzYOYA4&s', 'https://encrypted-tbn0.gstatic.com/images?q=tbn:ANd9GcTSLzYtFaQ1eeY81dM1272vIT_2oaNWGxIs-CqPgRYNEyTzVDpDfcZx7bTl9A&s', 'https://encrypted-tbn0.gstatic.com/images?q=tbn:ANd9GcTidiu-JU908LybkDUU8DJ_SNVDmdek9IgZJ-EAm6dq7sOluP59YnuLtheaBLs&s', 'https://encrypted-tbn0.gstatic.com/images?q=tbn:ANd9GcRLeFvu3RsPUPBYa9dS1-DQrCLhyxxa_Heep5y_lvt-jUzy-ODBCfIkY8aPCJ8&s', 'https://encrypted-tbn0.gstatic.com/images?q=tbn:ANd9GcTUGARTezCXAKuiavjb6XGG7w4me2k_JOiDNsujsXnTnNMhlDbdOgYm4JxLrK4&s', 'https://encrypted-tbn0.gstatic.com/images?q=tbn:ANd9GcRBgyWs05o7Ylsp5L-0e4OzBeoibN2sf_zcopEHtUJTHk7wji3YqUKxFaVEPhE&s']\n"
     ]
    }
   ],
   "source": [
    "#open new url\n",
    "new_url = browser.get_url()\n",
    "browser.open(new_url)\n",
    "\n",
    "#get HTMl\n",
    "page = browser.get_current_page()\n",
    "all_images = page.find_all('img')\n",
    "\n",
    "#target the source attributte\n",
    "image_source = []\n",
    "for image in all_images:\n",
    "    image = image.get('src')\n",
    "    image_source.append(image)\n",
    "\n",
    "print(image_source)"
   ]
  },
  {
   "cell_type": "code",
   "execution_count": 22,
   "metadata": {},
   "outputs": [
    {
     "name": "stdout",
     "output_type": "stream",
     "text": [
      "['https://encrypted-tbn0.gstatic.com/images?q=tbn:ANd9GcQdyg0Uk7TlkOaEgFUbKh8nOz2U-pRGRoknV_YwFvpOwT4C7VgvSp4lOlXaKQ&s', 'https://encrypted-tbn0.gstatic.com/images?q=tbn:ANd9GcR6_EjqutxZpm4wEBYDOBLoXCdZbGKLgHow7BSY1YRopIjVxV5qKBA3-p-h0A&s', 'https://encrypted-tbn0.gstatic.com/images?q=tbn:ANd9GcQb19mx2qZu8Ygo5qQph23pejl0h-IB3zowlj6EuGv2DbP-t8BuLkBIIs7IXw&s', 'https://encrypted-tbn0.gstatic.com/images?q=tbn:ANd9GcQdFKdG3-oMCr5WdI7ugJ1-2GD38T3YAhwVUQdgy7M3H9Aekf_anOimuzlGaA&s', 'https://encrypted-tbn0.gstatic.com/images?q=tbn:ANd9GcRo7yEdAMauzwYx-x0Xx7uNTvpG7w8q4KoXAra3Zk9SzSoq9I76OJaxNPOiAg&s', 'https://encrypted-tbn0.gstatic.com/images?q=tbn:ANd9GcTnyARxKb2UB8EsSv_eROYvw0xzdVyr5xHvAuzkY5mqzL4lqLT1C4U2b29zag&s', 'https://encrypted-tbn0.gstatic.com/images?q=tbn:ANd9GcTnMoyCB4EqGmGpPSK7sCyJHWFP3yZyrJphfsLVQkBOhDTTn9lb_E5HvLYm3g&s', 'https://encrypted-tbn0.gstatic.com/images?q=tbn:ANd9GcR09LabgHtXY8JRLh7W96e2sAqS0s_DMysgfJ_oEAVylf7mFzu7bPREHO5yVuY&s', 'https://encrypted-tbn0.gstatic.com/images?q=tbn:ANd9GcRSXkW_7j6CH8W8eN6bqqP2xZFPmM2pYcI75dB9eZvkRw7V07ZvXANv69i0cA&s', 'https://encrypted-tbn0.gstatic.com/images?q=tbn:ANd9GcSVYIzy_9y1L9ax8KiAq4p2-BLxIU60GOO9vvSndtKqs0JTxoz7RMdWNmw-ew&s', 'https://encrypted-tbn0.gstatic.com/images?q=tbn:ANd9GcRBikYqwPRhXQzbEG1muWFAK-s2BPPxQf-Uv9x_8RIirhzJbcpSTc58DyJAKM4&s', 'https://encrypted-tbn0.gstatic.com/images?q=tbn:ANd9GcQmdsexedNF5VuLzxmgRW3zkXzGIs8KvqxuKFqvOD_N2PgzHLWVKik1Bim07w&s', 'https://encrypted-tbn0.gstatic.com/images?q=tbn:ANd9GcTrJUUFKOCTbggfUit8mRZPiR2Qr-BkNb85f3hP1C8tQiRi4svfkoE7KviAb2s&s', 'https://encrypted-tbn0.gstatic.com/images?q=tbn:ANd9GcQ5vJ5ED0Pspjg7VpjJvhUH_OUEQ6ylbguYnQXI0MDNw7p0rT9j6P38EWGJLJ0&s', 'https://encrypted-tbn0.gstatic.com/images?q=tbn:ANd9GcSuJQB8XvjbpyJ0ukUymIQRRKK-fR4HKGOcmL_Ouh6tiTKR3BC7BVg_WzYOYA4&s', 'https://encrypted-tbn0.gstatic.com/images?q=tbn:ANd9GcTSLzYtFaQ1eeY81dM1272vIT_2oaNWGxIs-CqPgRYNEyTzVDpDfcZx7bTl9A&s', 'https://encrypted-tbn0.gstatic.com/images?q=tbn:ANd9GcTidiu-JU908LybkDUU8DJ_SNVDmdek9IgZJ-EAm6dq7sOluP59YnuLtheaBLs&s', 'https://encrypted-tbn0.gstatic.com/images?q=tbn:ANd9GcRLeFvu3RsPUPBYa9dS1-DQrCLhyxxa_Heep5y_lvt-jUzy-ODBCfIkY8aPCJ8&s', 'https://encrypted-tbn0.gstatic.com/images?q=tbn:ANd9GcTUGARTezCXAKuiavjb6XGG7w4me2k_JOiDNsujsXnTnNMhlDbdOgYm4JxLrK4&s', 'https://encrypted-tbn0.gstatic.com/images?q=tbn:ANd9GcRBgyWs05o7Ylsp5L-0e4OzBeoibN2sf_zcopEHtUJTHk7wji3YqUKxFaVEPhE&s']\n"
     ]
    }
   ],
   "source": [
    "# now will clean the HTML to get only url\n",
    "image_source = [image for image in image_source if image.startswith('https')]\n",
    "\n",
    "print(image_source)"
   ]
  },
  {
   "cell_type": "code",
   "execution_count": 23,
   "metadata": {},
   "outputs": [
    {
     "name": "stdout",
     "output_type": "stream",
     "text": [
      "c:\\Users\\User\\Desktop\\Albatrius\\web_scrap\\pandas\n"
     ]
    }
   ],
   "source": [
    "# downloadng the images and saviin it to directory\n",
    "import os\n",
    "import wget\n",
    "\n",
    "path = os.getcwd()\n",
    "path = os.path.join(path, word + \"s\")\n",
    "\n",
    "#create directory\n",
    "os.mkdir(path)\n",
    "\n",
    "print(path)"
   ]
  },
  {
   "cell_type": "code",
   "execution_count": 24,
   "metadata": {},
   "outputs": [],
   "source": [
    "#Dowload images\n",
    "\n",
    "counter = 0\n",
    "\n",
    "for image in image_source:\n",
    "    save_as = os.path.join(path, word + str(counter)+ '.jpg')\n",
    "    wget.download(image, save_as)\n",
    "    counter += 1"
   ]
  }
 ],
 "metadata": {
  "interpreter": {
   "hash": "62b8e38797574a9de3c3f9bc79729bb88e3b9c6776c95587f79be5c56a9bdc90"
  },
  "kernelspec": {
   "display_name": "Python 3.10.0 64-bit",
   "language": "python",
   "name": "python3"
  },
  "language_info": {
   "codemirror_mode": {
    "name": "ipython",
    "version": 3
   },
   "file_extension": ".py",
   "mimetype": "text/x-python",
   "name": "python",
   "nbconvert_exporter": "python",
   "pygments_lexer": "ipython3",
   "version": "3.10.0"
  },
  "orig_nbformat": 4
 },
 "nbformat": 4,
 "nbformat_minor": 2
}
